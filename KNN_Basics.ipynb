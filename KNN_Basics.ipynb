{
  "nbformat": 4,
  "nbformat_minor": 0,
  "metadata": {
    "colab": {
      "name": "Lab.ipynb",
      "provenance": [],
      "collapsed_sections": []
    },
    "kernelspec": {
      "name": "python3",
      "display_name": "Python 3"
    },
    "language_info": {
      "name": "python"
    }
  },
  "cells": [
    {
      "cell_type": "markdown",
      "source": [
        "#Open File Datasets"
      ],
      "metadata": {
        "id": "NUMA1MNsqsjY"
      }
    },
    {
      "cell_type": "code",
      "execution_count": null,
      "metadata": {
        "id": "XCDJPQH-2Zdg"
      },
      "outputs": [],
      "source": [
        "import pandas as pd"
      ]
    },
    {
      "cell_type": "code",
      "source": [
        "df = pd.read_csv('/content/drive/MyDrive/Datasets/Telco-Customer-Churn.csv')"
      ],
      "metadata": {
        "id": "kY9OG6393I6I"
      },
      "execution_count": null,
      "outputs": []
    },
    {
      "cell_type": "code",
      "source": [
        "X = df [ ['OnlineSecurity' , 'PhoneService', 'MonthlyCharges'] ]"
      ],
      "metadata": {
        "id": "uZr7zFbG3Y-A"
      },
      "execution_count": 42,
      "outputs": []
    },
    {
      "cell_type": "code",
      "source": [
        "y = df [ 'Churn' ]"
      ],
      "metadata": {
        "id": "LATN5lRNojU2"
      },
      "execution_count": 6,
      "outputs": []
    },
    {
      "cell_type": "markdown",
      "source": [
        "#Train Test Split"
      ],
      "metadata": {
        "id": "PK7EJB4mxjHV"
      }
    },
    {
      "cell_type": "code",
      "source": [
        "from sklearn.model_selection import train_test_split"
      ],
      "metadata": {
        "id": "AshNB-56xxVa"
      },
      "execution_count": 17,
      "outputs": []
    },
    {
      "cell_type": "code",
      "source": [
        "X_train, X_test, y_train, y_test = train_test_split(X, y, test_size=0.2)"
      ],
      "metadata": {
        "id": "qoYU5AFKx805"
      },
      "execution_count": 18,
      "outputs": []
    },
    {
      "cell_type": "markdown",
      "source": [
        "#Make colom transformer & OneHot\n"
      ],
      "metadata": {
        "id": "IntUxmBLq6ty"
      }
    },
    {
      "cell_type": "code",
      "source": [
        "from sklearn.preprocessing import OneHotEncoder\n",
        "from sklearn.compose import make_column_transformer\n",
        "from sklearn.preprocessing import MinMaxScaler, MaxAbsScaler"
      ],
      "metadata": {
        "id": "TQBQn-HnqrqB"
      },
      "execution_count": 14,
      "outputs": []
    },
    {
      "cell_type": "code",
      "source": [
        "transformer = make_column_transformer(\n",
        "    (OneHotEncoder(), [ 'OnlineSecurity' , 'PhoneService']),\n",
        "    (MinMaxScaler(), [ 'MonthlyCharges' ])\n",
        ")"
      ],
      "metadata": {
        "id": "wm7c1_XppZPi"
      },
      "execution_count": 43,
      "outputs": []
    },
    {
      "cell_type": "code",
      "source": [
        "X_trainTransformer = transformer.fit_transform(X_train)\n",
        "X_trainTransformer"
      ],
      "metadata": {
        "colab": {
          "base_uri": "https://localhost:8080/"
        },
        "id": "55kjbubMxB1k",
        "outputId": "169d61e2-cb72-4875-9db6-d1dbd336d064"
      },
      "execution_count": 44,
      "outputs": [
        {
          "output_type": "execute_result",
          "data": {
            "text/plain": [
              "array([[1.        , 0.        , 0.        , 0.        , 1.        ,\n",
              "        0.70945274],\n",
              "       [1.        , 0.        , 0.        , 0.        , 1.        ,\n",
              "        0.36716418],\n",
              "       [0.        , 0.        , 1.        , 0.        , 1.        ,\n",
              "        0.42039801],\n",
              "       ...,\n",
              "       [1.        , 0.        , 0.        , 1.        , 0.        ,\n",
              "        0.17164179],\n",
              "       [0.        , 1.        , 0.        , 0.        , 1.        ,\n",
              "        0.01840796],\n",
              "       [0.        , 0.        , 1.        , 1.        , 0.        ,\n",
              "        0.37512438]])"
            ]
          },
          "metadata": {},
          "execution_count": 44
        }
      ]
    },
    {
      "cell_type": "code",
      "source": [
        "X_testTransformer = transformer.fit_transform(X_test)\n",
        "X_testTransformer"
      ],
      "metadata": {
        "colab": {
          "base_uri": "https://localhost:8080/"
        },
        "id": "tzZOXqiRzmtU",
        "outputId": "0eddf479-3043-4172-d707-b9fd042ee401"
      },
      "execution_count": 23,
      "outputs": [
        {
          "output_type": "execute_result",
          "data": {
            "text/plain": [
              "array([[1.        , 0.        , 0.        , 0.        , 1.        ,\n",
              "        0.71171171],\n",
              "       [1.        , 0.        , 0.        , 0.        , 1.        ,\n",
              "        0.61611612],\n",
              "       [1.        , 0.        , 0.        , 0.        , 1.        ,\n",
              "        0.55805806],\n",
              "       ...,\n",
              "       [1.        , 0.        , 0.        , 0.        , 1.        ,\n",
              "        0.9049049 ],\n",
              "       [1.        , 0.        , 0.        , 0.        , 1.        ,\n",
              "        0.60510511],\n",
              "       [0.        , 1.        , 0.        , 0.        , 1.        ,\n",
              "        0.00550551]])"
            ]
          },
          "metadata": {},
          "execution_count": 23
        }
      ]
    },
    {
      "cell_type": "code",
      "source": [
        "XTransformer = transformer.fit_transform(X)\n",
        "XTransformer"
      ],
      "metadata": {
        "colab": {
          "base_uri": "https://localhost:8080/"
        },
        "id": "dwMSwTN73twB",
        "outputId": "431b0adb-a9ba-4f8d-c5ef-f3587edc5f9f"
      },
      "execution_count": 28,
      "outputs": [
        {
          "output_type": "execute_result",
          "data": {
            "text/plain": [
              "array([[1.        , 0.        , 0.        , 1.        , 0.        ,\n",
              "        0.11542289],\n",
              "       [0.        , 0.        , 1.        , 0.        , 1.        ,\n",
              "        0.38507463],\n",
              "       [0.        , 0.        , 1.        , 0.        , 1.        ,\n",
              "        0.35422886],\n",
              "       ...,\n",
              "       [0.        , 0.        , 1.        , 1.        , 0.        ,\n",
              "        0.11293532],\n",
              "       [1.        , 0.        , 0.        , 0.        , 1.        ,\n",
              "        0.55870647],\n",
              "       [0.        , 0.        , 1.        , 0.        , 1.        ,\n",
              "        0.86965174]])"
            ]
          },
          "metadata": {},
          "execution_count": 28
        }
      ]
    },
    {
      "cell_type": "markdown",
      "source": [
        "#Cross-Validation"
      ],
      "metadata": {
        "id": "JCu2m79Kz9O4"
      }
    },
    {
      "cell_type": "code",
      "source": [
        "from sklearn.neighbors import KNeighborsClassifier\n",
        "from sklearn.model_selection import cross_val_score"
      ],
      "metadata": {
        "id": "cozqyYq70JOv"
      },
      "execution_count": 26,
      "outputs": []
    },
    {
      "cell_type": "code",
      "source": [
        "knn = KNeighborsClassifier(n_neighbors=20)"
      ],
      "metadata": {
        "id": "Y_E-NwVV0Xp4"
      },
      "execution_count": 70,
      "outputs": []
    },
    {
      "cell_type": "code",
      "source": [
        "cross_val_score(knn, XTransformer, y, cv=10).mean()"
      ],
      "metadata": {
        "colab": {
          "base_uri": "https://localhost:8080/"
        },
        "id": "O8b74n0n1QU6",
        "outputId": "434de384-4922-4220-86e9-172b66c0a1df"
      },
      "execution_count": 71,
      "outputs": [
        {
          "output_type": "execute_result",
          "data": {
            "text/plain": [
              "0.7248341795615733"
            ]
          },
          "metadata": {},
          "execution_count": 71
        }
      ]
    },
    {
      "cell_type": "markdown",
      "source": [
        "#GridSearch"
      ],
      "metadata": {
        "id": "nWpRqUhx6Vlv"
      }
    },
    {
      "cell_type": "code",
      "source": [
        "from sklearn.model_selection import GridSearchCV"
      ],
      "metadata": {
        "id": "rcEDDMQp782U"
      },
      "execution_count": 75,
      "outputs": []
    },
    {
      "cell_type": "code",
      "source": [
        "knn_search = KNeighborsClassifier()"
      ],
      "metadata": {
        "id": "2Px_6BtN6UHW"
      },
      "execution_count": 72,
      "outputs": []
    },
    {
      "cell_type": "code",
      "source": [
        "grid_search = GridSearchCV(knn_search\n",
        "                           , param_grid={'n_neighbors' : (9,11,13,15,17,19,21,23,25)}\n",
        "                           , cv=10)\n",
        "grid_search.fit(XTransformer, y)"
      ],
      "metadata": {
        "colab": {
          "base_uri": "https://localhost:8080/"
        },
        "id": "yVu3NEbr6oeb",
        "outputId": "82b942a5-fcba-4fe7-ea8e-4c8092d24411"
      },
      "execution_count": 77,
      "outputs": [
        {
          "output_type": "execute_result",
          "data": {
            "text/plain": [
              "GridSearchCV(cv=10, estimator=KNeighborsClassifier(),\n",
              "             param_grid={'n_neighbors': (9, 11, 13, 15, 17, 19, 21, 23, 25)})"
            ]
          },
          "metadata": {},
          "execution_count": 77
        }
      ]
    },
    {
      "cell_type": "code",
      "source": [
        "grid_search.best_params_ , grid_search.best_score_"
      ],
      "metadata": {
        "colab": {
          "base_uri": "https://localhost:8080/"
        },
        "id": "WBIk6oUQ8xWs",
        "outputId": "36910ec2-3cc4-4b12-8629-b9edc058d4b8"
      },
      "execution_count": 78,
      "outputs": [
        {
          "output_type": "execute_result",
          "data": {
            "text/plain": [
              "({'n_neighbors': 23}, 0.7232736943907158)"
            ]
          },
          "metadata": {},
          "execution_count": 78
        }
      ]
    }
  ]
}